{
 "cells": [
  {
   "cell_type": "code",
   "execution_count": null,
   "metadata": {},
   "outputs": [],
   "source": [
    "%pip install -r requirements.txt"
   ]
  },
  {
   "cell_type": "code",
   "execution_count": 5,
   "metadata": {},
   "outputs": [
    {
     "data": {
      "text/plain": [
       "Array(96.75, dtype=float32)"
      ]
     },
     "execution_count": 5,
     "metadata": {},
     "output_type": "execute_result"
    }
   ],
   "source": [
    "from __future__ import annotations\n",
    "\n",
    "import jax\n",
    "import jax.numpy as jnp\n",
    "\n",
    "from melody import compose\n",
    "\n",
    "# for the case where you have a bunch of functions that you want to chain together\n",
    "# when doing a pipeline that you may want to take the grad of, e.g.:\n",
    "#\n",
    "# data generation -> preprocess -> loss\n",
    "#\n",
    "# but you may not want to have to specify all the kwargs for each function\n",
    "# (e.g. you want to specify the kwargs for the first function, and then the rest\n",
    "# are inferred from the return values of the previous functions in the chain)\n",
    "#\n",
    "# saves you doing\n",
    "# def pipeline(thing_for_grad, **kwargs):\n",
    "#    data = data_gen(thing_for_grad, some_kwargs)\n",
    "#    data = preprocess(data, some_other_kwargs)\n",
    "#    loss = loss(data, some_other_other_kwargs)\n",
    "#    return loss\n",
    "#\n",
    "# conditions:\n",
    "# - each func in chain must return dict \n",
    "#   corresponding to some kwargs of next function\n",
    "# - first arg is for grad, rest need to be specified as kwargs\n",
    "#\n",
    "# it's a bit hacky so never ended up using it, but it's a cool idea!\n",
    "\n",
    "def data_gen(p: float) -> dict[str, float]:\n",
    "    return dict(data = jnp.array([3 * p**2,4]))\n",
    "\n",
    "def preprocess(param: float, data: jax.Array) -> dict[str, float]:\n",
    "    s, b = data\n",
    "    return dict(s = s + param, b = b)\n",
    "    \n",
    "def loss(yeet: float, s: float, b: float) -> float:\n",
    "    return s / b - yeet\n",
    "\n",
    "pipeline = compose([data_gen, preprocess, loss])\n",
    "pipeline(1, p=4., param=343.)"
   ]
  },
  {
   "cell_type": "code",
   "execution_count": 7,
   "metadata": {},
   "outputs": [
    {
     "name": "stdout",
     "output_type": "stream",
     "text": [
      "-0.75\n",
      "4.75\n",
      "0.25\n"
     ]
    }
   ],
   "source": [
    "# can take grad of pipeline wrt any of the args if you keep it as the first arg\n",
    "print(jax.grad(pipeline)(5., params=1, p=3))    # grad wrt 'yeet'\n",
    "print(jax.grad(pipeline)(3., params=1, yeet=5)) # grad wrt 'p'\n",
    "print(jax.grad(pipeline)(1., p=1, yeet=5))      # grad wrt 'params'"
   ]
  },
  {
   "cell_type": "code",
   "execution_count": null,
   "metadata": {},
   "outputs": [],
   "source": []
  }
 ],
 "metadata": {
  "kernelspec": {
   "display_name": "venv",
   "language": "python",
   "name": "python3"
  },
  "language_info": {
   "codemirror_mode": {
    "name": "ipython",
    "version": 3
   },
   "file_extension": ".py",
   "mimetype": "text/x-python",
   "name": "python",
   "nbconvert_exporter": "python",
   "pygments_lexer": "ipython3",
   "version": "3.11.4"
  },
  "orig_nbformat": 4
 },
 "nbformat": 4,
 "nbformat_minor": 2
}
