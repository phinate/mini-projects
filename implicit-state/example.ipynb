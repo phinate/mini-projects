{
 "cells": [
  {
   "cell_type": "code",
   "execution_count": 1,
   "metadata": {},
   "outputs": [],
   "source": [
    "from storage import FromStore, ToStore\n",
    "\n",
    "# quite literally needs the type annotations to work (dark magic)\n",
    "\n",
    "def generator(param: float) -> ToStore:\n",
    "  return ToStore(a=3. * param, b=5.)\n",
    "\n",
    "\n",
    "def consumer_one(a: FromStore) -> ToStore:\n",
    "  return ToStore(c=a + 2.)\n",
    "\n",
    "\n",
    "def consumer_two(b: FromStore) -> ToStore:\n",
    "  return ToStore(d=b + 5.)\n",
    "\n",
    "\n",
    "def merger(c: FromStore, d: FromStore) -> ToStore:\n",
    "  return ToStore(e=c + d)"
   ]
  },
  {
   "cell_type": "code",
   "execution_count": 2,
   "metadata": {},
   "outputs": [
    {
     "name": "stdout",
     "output_type": "stream",
     "text": [
      "store before funcs: {}\n",
      "store after generator: {'a': 12.0, 'b': 5.0}\n",
      "store after consumer_one: {'a': 12.0, 'b': 5.0, 'c': 14.0}\n",
      "store after consumer_two: {'a': 12.0, 'b': 5.0, 'c': 14.0, 'd': 10.0}\n",
      "store after merger: {'a': 12.0, 'b': 5.0, 'c': 14.0, 'd': 10.0, 'e': 24.0}\n"
     ]
    }
   ],
   "source": [
    "from storage import update\n",
    "\n",
    "store = {}\n",
    "print(f'store before funcs: {store}')\n",
    "store = update(generator, store)(4.)\n",
    "print(f'store after generator: {store}')\n",
    "store = update(consumer_one, store)()\n",
    "print(f'store after consumer_one: {store}')\n",
    "store = update(consumer_two, store)()\n",
    "print(f'store after consumer_two: {store}')\n",
    "store = update(merger, store)()\n",
    "print(f'store after merger: {store}')"
   ]
  },
  {
   "cell_type": "code",
   "execution_count": null,
   "metadata": {},
   "outputs": [],
   "source": []
  }
 ],
 "metadata": {
  "kernelspec": {
   "display_name": "venv",
   "language": "python",
   "name": "python3"
  },
  "language_info": {
   "codemirror_mode": {
    "name": "ipython",
    "version": 3
   },
   "file_extension": ".py",
   "mimetype": "text/x-python",
   "name": "python",
   "nbconvert_exporter": "python",
   "pygments_lexer": "ipython3",
   "version": "3.11.4"
  },
  "orig_nbformat": 4
 },
 "nbformat": 4,
 "nbformat_minor": 2
}
